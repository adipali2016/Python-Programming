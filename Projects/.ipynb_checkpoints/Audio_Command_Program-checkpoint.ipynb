{
 "cells": [
  {
   "cell_type": "code",
   "execution_count": 13,
   "metadata": {},
   "outputs": [
    {
     "name": "stdout",
     "output_type": "stream",
     "text": [
      "Ahoy! Welcome to Sasti Services\n",
      "Enter your requirements : launch parivaar site\n"
     ]
    }
   ],
   "source": [
    "import webbrowser\n",
    "\n",
    "print(\"Ahoy! Welcome to Sasti Services\")\n",
    "\n",
    "print(\"Enter your requirements : \", end='')\n",
    "\n",
    "ch = input()\n",
    "\n",
    "if (\"parivaar\" in ch) and (\"launch\" in ch):\n",
    "    webbrowser.open(\"https://www.parivaar.club\")\n",
    "elif (\"google\" in  ch) and (\"launch\" in ch):\n",
    "    webbrowser.open(\"https://www.google.com\")\n",
    "else:\n",
    "    print(\"Command not found\")\n",
    "    \n",
    "    \n",
    "\n",
    "\n"
   ]
  },
  {
   "cell_type": "code",
   "execution_count": 14,
   "metadata": {},
   "outputs": [
    {
     "name": "stdout",
     "output_type": "stream",
     "text": [
      "Hello world\n"
     ]
    }
   ],
   "source": [
    "print(\"Hello world\")"
   ]
  }
 ],
 "metadata": {
  "kernelspec": {
   "display_name": "Python 3",
   "language": "python",
   "name": "python3"
  },
  "language_info": {
   "codemirror_mode": {
    "name": "ipython",
    "version": 3
   },
   "file_extension": ".py",
   "mimetype": "text/x-python",
   "name": "python",
   "nbconvert_exporter": "python",
   "pygments_lexer": "ipython3",
   "version": "3.8.3"
  }
 },
 "nbformat": 4,
 "nbformat_minor": 4
}
